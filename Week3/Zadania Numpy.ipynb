{
 "cells": [
  {
   "cell_type": "code",
   "execution_count": 1,
   "metadata": {},
   "outputs": [],
   "source": [
    "import numpy as np"
   ]
  },
  {
   "cell_type": "markdown",
   "metadata": {},
   "source": [
    "## Zadanie 1"
   ]
  },
  {
   "cell_type": "code",
   "execution_count": 12,
   "metadata": {},
   "outputs": [],
   "source": [
    "np.random.seed(123)\n",
    "x1 = np.random.uniform(-4, 4, 30)"
   ]
  },
  {
   "cell_type": "markdown",
   "metadata": {},
   "source": [
    "#### A. Wszystkie wartości ze zbioru [-2,-1] i [1,2]¶"
   ]
  },
  {
   "cell_type": "code",
   "execution_count": 3,
   "metadata": {},
   "outputs": [
    {
     "data": {
      "text/plain": [
       "array([ 1.57175348, -1.71088532,  1.75575176,  1.47863791, -1.25457587,\n",
       "        1.83239766,  1.90396325,  1.07520767,  1.7956426 ,  1.77954706,\n",
       "       -1.41632869, -1.10569076, -1.65028763,  1.04780899])"
      ]
     },
     "execution_count": 3,
     "metadata": {},
     "output_type": "execute_result"
    }
   ],
   "source": [
    "x1[((x1 > -2) & (x1 < -1)) | ((x1 > 1) & (x1 < 2))]"
   ]
  },
  {
   "cell_type": "markdown",
   "metadata": {},
   "source": [
    "#### B. Wypisz na ekran liczbę wszystkich wartości nieujemnych"
   ]
  },
  {
   "cell_type": "code",
   "execution_count": 4,
   "metadata": {},
   "outputs": [
    {
     "data": {
      "text/plain": [
       "15"
      ]
     },
     "execution_count": 4,
     "metadata": {},
     "output_type": "execute_result"
    }
   ],
   "source": [
    "x1[x1 >= 0].size"
   ]
  },
  {
   "cell_type": "markdown",
   "metadata": {},
   "source": [
    "#### C. Wyznacz średnią arytmetyczna wartości bezwzględnych elementów"
   ]
  },
  {
   "cell_type": "code",
   "execution_count": 5,
   "metadata": {},
   "outputs": [
    {
     "data": {
      "text/plain": [
       "1.5260572308400788"
      ]
     },
     "execution_count": 5,
     "metadata": {},
     "output_type": "execute_result"
    }
   ],
   "source": [
    "np.mean(np.abs(x1))"
   ]
  },
  {
   "cell_type": "markdown",
   "metadata": {},
   "source": [
    "#### D. Największą i najmniejszą wartość"
   ]
  },
  {
   "cell_type": "code",
   "execution_count": 6,
   "metadata": {},
   "outputs": [
    {
     "name": "stdout",
     "output_type": "stream",
     "text": [
      "3.846113587076924\n",
      "-3.522576827123453\n"
     ]
    }
   ],
   "source": [
    "print(np.max(x1))\n",
    "print(np.min(x1))"
   ]
  },
  {
   "cell_type": "markdown",
   "metadata": {},
   "source": [
    "#### E. Wyznacz wartość najbliższą i najdalsza od 0/2 (zachowując jej znak)"
   ]
  },
  {
   "cell_type": "code",
   "execution_count": 7,
   "metadata": {},
   "outputs": [
    {
     "data": {
      "text/plain": [
       "array([1.90396325])"
      ]
     },
     "execution_count": 7,
     "metadata": {},
     "output_type": "execute_result"
    }
   ],
   "source": [
    "x1[np.abs(2 - x1) == np.min(np.abs(2 - x1))]"
   ]
  },
  {
   "cell_type": "code",
   "execution_count": 8,
   "metadata": {},
   "outputs": [
    {
     "data": {
      "text/plain": [
       "1.9039632458562856"
      ]
     },
     "execution_count": 8,
     "metadata": {},
     "output_type": "execute_result"
    }
   ],
   "source": [
    "x1[np.argmin(np.abs(2 - x1))]"
   ]
  },
  {
   "cell_type": "code",
   "execution_count": 9,
   "metadata": {},
   "outputs": [
    {
     "data": {
      "text/plain": [
       "-3.522576827123453"
      ]
     },
     "execution_count": 9,
     "metadata": {},
     "output_type": "execute_result"
    }
   ],
   "source": [
    "x1[np.argmax(np.abs(2 - x1))]"
   ]
  },
  {
   "cell_type": "code",
   "execution_count": 10,
   "metadata": {},
   "outputs": [
    {
     "data": {
      "text/plain": [
       "array([-3.52257683])"
      ]
     },
     "execution_count": 10,
     "metadata": {},
     "output_type": "execute_result"
    }
   ],
   "source": [
    "x1[np.abs(2 - x1) == np.max(np.abs(2 - x1))]"
   ]
  },
  {
   "cell_type": "markdown",
   "metadata": {},
   "source": [
    "#### G. Wypisz na ekran część ułamkową wszystkich elementów"
   ]
  },
  {
   "cell_type": "code",
   "execution_count": 11,
   "metadata": {},
   "outputs": [
    {
     "data": {
      "text/plain": [
       "array([ 0.57175348, -0.71088532, -0.18518837,  0.41051815,  0.75575176,\n",
       "       -0.61514832,  0.84611359,  0.47863791, -0.15254479, -0.86305985,\n",
       "       -0.25457587,  0.83239766, -0.49142204, -0.52257683, -0.81564596,\n",
       "        0.90396325, -0.54006616, -0.59638595,  0.25241099,  0.2546207 ,\n",
       "        0.07520767,  0.79545435,  0.7956426 ,  0.88818809,  0.77954706,\n",
       "       -0.41632869, -0.10569076, -0.17389415, -0.65028763,  0.04780899])"
      ]
     },
     "execution_count": 11,
     "metadata": {},
     "output_type": "execute_result"
    }
   ],
   "source": [
    "np.modf(x1)[0]"
   ]
  },
  {
   "cell_type": "markdown",
   "metadata": {},
   "source": [
    "#### H. Interpolacja liniowa"
   ]
  },
  {
   "cell_type": "code",
   "execution_count": 8,
   "metadata": {},
   "outputs": [
    {
     "data": {
      "text/plain": [
       "array([ 0.38269625, -0.50827314, -0.63700783,  0.06751533,  0.43263682,\n",
       "       -0.21086968,  1.        ,  0.35742295, -0.08531046, -0.2781575 ,\n",
       "       -0.38442224,  0.45343994, -0.17728806, -1.        , -0.26528848,\n",
       "        0.47286418, -0.73332828, -0.74861452,  0.02460209,  0.02520185,\n",
       "        0.24792446,  0.71483149,  0.44346393,  0.19716386,  0.4390953 ,\n",
       "       -0.42832498, -0.34401205, -0.63394237, -0.49182579,  0.24048795])"
      ]
     },
     "execution_count": 8,
     "metadata": {},
     "output_type": "execute_result"
    }
   ],
   "source": [
    "x_min = np.min(x1)\n",
    "x_max = np.max(x1)\n",
    "(x1 - x_min) / (x_max - x_min) * (1 - (-1)) + (-1)"
   ]
  },
  {
   "cell_type": "markdown",
   "metadata": {},
   "source": [
    "#### I. średnią wartość kwadratów liczb większych od 3 lub mniejszych od -2"
   ]
  },
  {
   "cell_type": "code",
   "execution_count": 9,
   "metadata": {},
   "outputs": [
    {
     "data": {
      "text/plain": [
       "8.315859553206058"
      ]
     },
     "execution_count": 9,
     "metadata": {},
     "output_type": "execute_result"
    }
   ],
   "source": [
    "np.mean(x1[(x1 > 3) | (x1 < -2)] ** 2)"
   ]
  },
  {
   "cell_type": "markdown",
   "metadata": {},
   "source": [
    "#### K. Utwórz wektor napisów y o długości takiej samej, jaką ma x, dla ktorego yi przyjmuje wartosc 'nieujemna', jesli xi jest nieujemne oraz 'ujemna' w przeciwnym przypadku,"
   ]
  },
  {
   "cell_type": "code",
   "execution_count": 15,
   "metadata": {},
   "outputs": [
    {
     "data": {
      "text/plain": [
       "array(['dodatnia', 'ujemna', 'ujemna', 'dodatnia', 'dodatnia', 'ujemna',\n",
       "       'dodatnia', 'dodatnia', 'ujemna', 'ujemna', 'ujemna', 'dodatnia',\n",
       "       'ujemna', 'ujemna', 'ujemna', 'dodatnia', 'ujemna', 'ujemna',\n",
       "       'dodatnia', 'dodatnia', 'dodatnia', 'dodatnia', 'dodatnia',\n",
       "       'dodatnia', 'dodatnia', 'ujemna', 'ujemna', 'ujemna', 'ujemna',\n",
       "       'dodatnia'], dtype='<U8')"
      ]
     },
     "execution_count": 15,
     "metadata": {},
     "output_type": "execute_result"
    }
   ],
   "source": [
    "x3 = np.where(x1 >  0, 'dodatnia', 'ujemna')\n",
    "x3"
   ]
  },
  {
   "cell_type": "code",
   "execution_count": 16,
   "metadata": {},
   "outputs": [
    {
     "data": {
      "text/plain": [
       "-0.01352281479601792"
      ]
     },
     "execution_count": 16,
     "metadata": {},
     "output_type": "execute_result"
    }
   ],
   "source": [
    "np.sum(x1) / x1.size"
   ]
  },
  {
   "cell_type": "code",
   "execution_count": 17,
   "metadata": {},
   "outputs": [
    {
     "data": {
      "text/plain": [
       "3.155462650642973"
      ]
     },
     "execution_count": 17,
     "metadata": {},
     "output_type": "execute_result"
    }
   ],
   "source": [
    "sum((x1 - np.mean(x1)) ** 2) / x1.size"
   ]
  },
  {
   "cell_type": "markdown",
   "metadata": {},
   "source": [
    "#### L. jego minimum i maksimum,ale nie używając funkcji min i max"
   ]
  },
  {
   "cell_type": "code",
   "execution_count": 15,
   "metadata": {},
   "outputs": [
    {
     "data": {
      "text/plain": [
       "(-3.522576827123453, 3.846113587076924)"
      ]
     },
     "execution_count": 15,
     "metadata": {},
     "output_type": "execute_result"
    }
   ],
   "source": [
    "(np.sort(x1)[0], np.sort(x1)[-1])"
   ]
  },
  {
   "cell_type": "markdown",
   "metadata": {},
   "source": [
    "#### O. Utwórz wektor liczbowy y o długosci takiej samej, jaką ma x, dla którego yi przyjmuje wartość k+0.5 wtedy i tylko wtedy, gdy xi należy do [k, k+1), gdzie k to liczba całkowita (prosty histogram)."
   ]
  },
  {
   "cell_type": "code",
   "execution_count": 17,
   "metadata": {},
   "outputs": [
    {
     "data": {
      "text/plain": [
       "array([ 1.5, -1.5, -2.5,  0.5,  1.5, -0.5,  3.5,  1.5, -0.5, -0.5, -1.5,\n",
       "        1.5, -0.5, -3.5, -0.5,  1.5, -2.5, -2.5,  0.5,  0.5,  1.5,  2.5,\n",
       "        1.5,  0.5,  1.5, -1.5, -1.5, -2.5, -1.5,  1.5])"
      ]
     },
     "execution_count": 17,
     "metadata": {},
     "output_type": "execute_result"
    }
   ],
   "source": [
    "np.floor(x1) + 0.5"
   ]
  },
  {
   "cell_type": "markdown",
   "metadata": {},
   "source": [
    "## Zadanie 2"
   ]
  },
  {
   "cell_type": "code",
   "execution_count": 18,
   "metadata": {},
   "outputs": [],
   "source": [
    "def corelation(x, y):\n",
    "    x_mean = np.mean(x)\n",
    "    y_mean = np.mean(y)\n",
    "    sd_x = (np.sum((x - x_mean) ** 2)) ** 0.5\n",
    "    sd_y = (np.sum((y - y_mean) ** 2)) ** 0.5\n",
    "    return np.round(np.sum((x - x_mean) * (y - y_mean)) / (sd_x * sd_y), 2)"
   ]
  },
  {
   "cell_type": "code",
   "execution_count": 19,
   "metadata": {},
   "outputs": [],
   "source": [
    "x = np.array([10,9,8,7,6,5,4,3,2,1])\n",
    "y = np.array([1,2,3,4,5,6,7,8,9,10])"
   ]
  },
  {
   "cell_type": "code",
   "execution_count": 20,
   "metadata": {},
   "outputs": [
    {
     "data": {
      "text/plain": [
       "-1.0"
      ]
     },
     "execution_count": 20,
     "metadata": {},
     "output_type": "execute_result"
    }
   ],
   "source": [
    "corelation(x, y)"
   ]
  },
  {
   "cell_type": "markdown",
   "metadata": {},
   "source": [
    "## Zadanie 3"
   ]
  },
  {
   "cell_type": "code",
   "execution_count": 27,
   "metadata": {},
   "outputs": [],
   "source": [
    "def standarize(x):\n",
    "    return (x - np.mean(x)) / np.std(x) "
   ]
  },
  {
   "cell_type": "code",
   "execution_count": 28,
   "metadata": {},
   "outputs": [
    {
     "data": {
      "text/plain": [
       "array([ 0.34996191, -0.33600301,  0.24013066, -2.17696987, -1.20074999,\n",
       "       -0.1821378 ,  1.36465354,  0.31805641,  0.48580271,  1.13725545])"
      ]
     },
     "execution_count": 28,
     "metadata": {},
     "output_type": "execute_result"
    }
   ],
   "source": [
    "y = standarize(x)\n",
    "y"
   ]
  },
  {
   "cell_type": "code",
   "execution_count": 29,
   "metadata": {},
   "outputs": [
    {
     "data": {
      "text/plain": [
       "0"
      ]
     },
     "execution_count": 29,
     "metadata": {},
     "output_type": "execute_result"
    }
   ],
   "source": [
    "int(np.mean(y))"
   ]
  },
  {
   "cell_type": "code",
   "execution_count": 30,
   "metadata": {},
   "outputs": [
    {
     "data": {
      "text/plain": [
       "1.0"
      ]
     },
     "execution_count": 30,
     "metadata": {},
     "output_type": "execute_result"
    }
   ],
   "source": [
    "np.std(y)"
   ]
  },
  {
   "cell_type": "markdown",
   "metadata": {},
   "source": [
    "## Zadanie 4"
   ]
  },
  {
   "cell_type": "code",
   "execution_count": 31,
   "metadata": {},
   "outputs": [],
   "source": [
    "x = np.array([1,2])\n",
    "y = np.array([1,2])"
   ]
  },
  {
   "cell_type": "code",
   "execution_count": 32,
   "metadata": {},
   "outputs": [
    {
     "data": {
      "text/plain": [
       "5"
      ]
     },
     "execution_count": 32,
     "metadata": {},
     "output_type": "execute_result"
    }
   ],
   "source": [
    "x @ y # Iloczyn skalarny"
   ]
  },
  {
   "cell_type": "markdown",
   "metadata": {},
   "source": [
    "## Zadanie 5"
   ]
  },
  {
   "cell_type": "code",
   "execution_count": 33,
   "metadata": {},
   "outputs": [],
   "source": [
    "def rmse(x, y):\n",
    "    return np.sqrt(np.sum((y - x) ** 2) / x.size)"
   ]
  },
  {
   "cell_type": "code",
   "execution_count": 34,
   "metadata": {},
   "outputs": [],
   "source": [
    "x = np.random.randint(1, 10, 20)\n",
    "y = np.random.randint(1, 10, 20)"
   ]
  },
  {
   "cell_type": "code",
   "execution_count": 35,
   "metadata": {},
   "outputs": [
    {
     "data": {
      "text/plain": [
       "2.9832867780352594"
      ]
     },
     "execution_count": 35,
     "metadata": {},
     "output_type": "execute_result"
    }
   ],
   "source": [
    "rmse(x, y)"
   ]
  },
  {
   "cell_type": "markdown",
   "metadata": {},
   "source": [
    "## Zadanie 6"
   ]
  },
  {
   "cell_type": "code",
   "execution_count": 36,
   "metadata": {},
   "outputs": [],
   "source": [
    "def mae(x, y):\n",
    "    return np.sum(np.abs(y - x)) / x.size"
   ]
  },
  {
   "cell_type": "code",
   "execution_count": 37,
   "metadata": {},
   "outputs": [
    {
     "data": {
      "text/plain": [
       "2.4"
      ]
     },
     "execution_count": 37,
     "metadata": {},
     "output_type": "execute_result"
    }
   ],
   "source": [
    "mae(x, y)"
   ]
  },
  {
   "cell_type": "markdown",
   "metadata": {},
   "source": [
    "## Zadanie 7"
   ]
  },
  {
   "cell_type": "code",
   "execution_count": 38,
   "metadata": {},
   "outputs": [],
   "source": [
    "def medae(x, y):\n",
    "    return np.median(np.abs(y - x))"
   ]
  },
  {
   "cell_type": "code",
   "execution_count": 39,
   "metadata": {},
   "outputs": [
    {
     "data": {
      "text/plain": [
       "2.0"
      ]
     },
     "execution_count": 39,
     "metadata": {},
     "output_type": "execute_result"
    }
   ],
   "source": [
    "medae(x, y)"
   ]
  },
  {
   "cell_type": "markdown",
   "metadata": {},
   "source": [
    "## Zadanie 8"
   ]
  },
  {
   "cell_type": "code",
   "execution_count": 40,
   "metadata": {},
   "outputs": [],
   "source": [
    "def hamming_distance(s1, s2):\n",
    "    \"\"\"Return the Hamming distance between equal-length sequences\"\"\"\n",
    "    if len(s1) != len(s2):\n",
    "        raise ValueError(\"Undefined for sequences of unequal length\")\n",
    "    return sum(s1 != s2) / s1.size"
   ]
  },
  {
   "cell_type": "code",
   "execution_count": 41,
   "metadata": {},
   "outputs": [
    {
     "data": {
      "text/plain": [
       "0.9"
      ]
     },
     "execution_count": 41,
     "metadata": {},
     "output_type": "execute_result"
    }
   ],
   "source": [
    "hamming_distance(x, y)"
   ]
  },
  {
   "cell_type": "code",
   "execution_count": 42,
   "metadata": {},
   "outputs": [],
   "source": [
    "x = np.r_[2:6]\n",
    "y = np.r_[1:5]"
   ]
  },
  {
   "cell_type": "code",
   "execution_count": 43,
   "metadata": {},
   "outputs": [
    {
     "data": {
      "text/plain": [
       "array([1, 2, 3, 4])"
      ]
     },
     "execution_count": 43,
     "metadata": {},
     "output_type": "execute_result"
    }
   ],
   "source": [
    "y"
   ]
  },
  {
   "cell_type": "markdown",
   "metadata": {},
   "source": [
    "## Zadanie 9"
   ]
  },
  {
   "cell_type": "code",
   "execution_count": 44,
   "metadata": {},
   "outputs": [],
   "source": [
    "def cross_entropy(y_pred, y):\n",
    "   return np.sum(y * np.log(y_pred) + ((1 - y) * np.log(1 - y_pred))) / (y.size * (-1))"
   ]
  },
  {
   "cell_type": "code",
   "execution_count": 45,
   "metadata": {},
   "outputs": [
    {
     "data": {
      "text/plain": [
       "array([0.34924138, 0.54109404, 0.4490534 , 0.28232096, 0.29587653,\n",
       "       0.56348098, 0.71519128, 0.51761868, 0.35204183, 0.63277886,\n",
       "       0.87311902, 0.16788844, 0.98747832, 0.34941493, 0.82620513,\n",
       "       0.06546154, 0.00535329, 0.88694465, 0.91131813, 0.19940777,\n",
       "       0.02755138, 0.81733492, 0.24182762, 0.05608301, 0.06756083,\n",
       "       0.47387186, 0.50942926, 0.41679514, 0.25584293, 0.38151211,\n",
       "       0.80738444, 0.81103914, 0.68618686, 0.99261363, 0.40518518,\n",
       "       0.19017372, 0.48817449, 0.50236965, 0.40335482, 0.18109542,\n",
       "       0.0480298 , 0.60469135, 0.26591121, 0.881347  , 0.58404612,\n",
       "       0.47746048, 0.17151502, 0.05662   , 0.15703523, 0.3386175 ,\n",
       "       0.44064297, 0.68384312, 0.20587172, 0.6164337 , 0.92447161,\n",
       "       0.07962825, 0.48539683, 0.69856363, 0.08156848, 0.86910236,\n",
       "       0.43310568, 0.49433006, 0.49574047, 0.37072208, 0.92212866,\n",
       "       0.84127822, 0.65552592, 0.46268505, 0.56501131, 0.42391551,\n",
       "       0.28821195, 0.26398072, 0.69073823, 0.83283653, 0.59239158,\n",
       "       0.46652258, 0.67365999, 0.39147935, 0.70210437, 0.96569764,\n",
       "       0.09050988, 0.05812514, 0.58801742, 0.75117376, 0.51131739,\n",
       "       0.92050119, 0.3039641 , 0.49300273, 0.97936034, 0.32350827,\n",
       "       0.18956717, 0.30522911, 0.34411193, 0.67953029, 0.053815  ,\n",
       "       0.80660376, 0.60295019, 0.65521318, 0.74765979, 0.53562618])"
      ]
     },
     "execution_count": 45,
     "metadata": {},
     "output_type": "execute_result"
    }
   ],
   "source": [
    "x = np.random.randint(0, 2, 100)\n",
    "y = np.random.uniform(0, 1, 100)\n",
    "y"
   ]
  },
  {
   "cell_type": "code",
   "execution_count": 46,
   "metadata": {},
   "outputs": [
    {
     "data": {
      "text/plain": [
       "1.0519919485201195"
      ]
     },
     "execution_count": 46,
     "metadata": {},
     "output_type": "execute_result"
    }
   ],
   "source": [
    "cross_entropy(y[0], x[0])"
   ]
  },
  {
   "cell_type": "code",
   "execution_count": 47,
   "metadata": {},
   "outputs": [],
   "source": [
    "def logloss(true_label, predicted, eps=1e-15):\n",
    "  p = np.clip(predicted, eps, 1 - eps)\n",
    "  if true_label == 1:\n",
    "    return -np.log(p)\n",
    "  else:\n",
    "    return -np.log(1 - p)"
   ]
  },
  {
   "cell_type": "code",
   "execution_count": 48,
   "metadata": {},
   "outputs": [
    {
     "data": {
      "text/plain": [
       "1.0519919485201195"
      ]
     },
     "execution_count": 48,
     "metadata": {},
     "output_type": "execute_result"
    }
   ],
   "source": [
    "logloss(x[0], y[0])"
   ]
  },
  {
   "cell_type": "markdown",
   "metadata": {},
   "source": [
    "## Zadanie 10"
   ]
  },
  {
   "cell_type": "code",
   "execution_count": 24,
   "metadata": {},
   "outputs": [],
   "source": [
    "def lead(x, n):\n",
    "    return np.hstack((x[n:], [np.NAN] * n))"
   ]
  },
  {
   "cell_type": "code",
   "execution_count": 30,
   "metadata": {},
   "outputs": [
    {
     "data": {
      "text/plain": [
       "array([ 1.,  1.,  2.,  3.,  4.,  5.,  6.,  7.,  8.,  9., 10., 11., 12.,\n",
       "       13., 14., 15., 16., 17., 18., 19., 20., 21., 22., 23., 24., 25.,\n",
       "       26., 27., 28., 29.])"
      ]
     },
     "execution_count": 30,
     "metadata": {},
     "output_type": "execute_result"
    }
   ],
   "source": [
    "a = np.r_[1:10:1j, 1:30]\n",
    "a"
   ]
  },
  {
   "cell_type": "code",
   "execution_count": 26,
   "metadata": {},
   "outputs": [
    {
     "data": {
      "text/plain": [
       "array([ 2.,  3.,  4.,  5.,  6.,  7.,  8.,  9., 10., 11., 12., 13., 14.,\n",
       "       15., 16., 17., 18., 19., 20., 21., 22., 23., 24., 25., 26., 27.,\n",
       "       28., 29., nan, nan])"
      ]
     },
     "execution_count": 26,
     "metadata": {},
     "output_type": "execute_result"
    }
   ],
   "source": [
    "lead(a, 2)"
   ]
  },
  {
   "cell_type": "code",
   "execution_count": 27,
   "metadata": {},
   "outputs": [],
   "source": [
    "def lag(x, n):\n",
    "    return np.hstack(([np.NAN] * n, x[:-n]))"
   ]
  },
  {
   "cell_type": "code",
   "execution_count": 29,
   "metadata": {
    "scrolled": true
   },
   "outputs": [
    {
     "data": {
      "text/plain": [
       "array([nan, nan, nan,  1.,  1.,  2.,  3.,  4.,  5.,  6.,  7.,  8.,  9.,\n",
       "       10., 11., 12., 13., 14., 15., 16., 17., 18., 19., 20., 21., 22.,\n",
       "       23., 24., 25., 26.])"
      ]
     },
     "execution_count": 29,
     "metadata": {},
     "output_type": "execute_result"
    }
   ],
   "source": [
    "lag(a, 3)"
   ]
  },
  {
   "cell_type": "markdown",
   "metadata": {},
   "source": [
    "## Zadanie 11"
   ]
  },
  {
   "cell_type": "code",
   "execution_count": 31,
   "metadata": {},
   "outputs": [],
   "source": [
    "def cumall(wektor):\n",
    "    n = np.argmin(wektor)\n",
    "    return np.r_[np.repeat(True, n), np.repeat(False, wektor.size - n)]"
   ]
  },
  {
   "cell_type": "code",
   "execution_count": 38,
   "metadata": {},
   "outputs": [],
   "source": [
    "x = np.array([False, True, False, True])"
   ]
  },
  {
   "cell_type": "code",
   "execution_count": 35,
   "metadata": {},
   "outputs": [
    {
     "data": {
      "text/plain": [
       "array([ True,  True, False, False])"
      ]
     },
     "execution_count": 35,
     "metadata": {},
     "output_type": "execute_result"
    }
   ],
   "source": [
    "cumall(x)"
   ]
  },
  {
   "cell_type": "code",
   "execution_count": 36,
   "metadata": {},
   "outputs": [],
   "source": [
    "def cumany(wektor):\n",
    "    n = np.argmax(wektor)\n",
    "    return np.r_[np.repeat(False, n), np.repeat(True, wektor.size - n)]"
   ]
  },
  {
   "cell_type": "code",
   "execution_count": 39,
   "metadata": {},
   "outputs": [
    {
     "data": {
      "text/plain": [
       "array([False,  True,  True,  True])"
      ]
     },
     "execution_count": 39,
     "metadata": {},
     "output_type": "execute_result"
    }
   ],
   "source": [
    "cumany(x)"
   ]
  },
  {
   "cell_type": "markdown",
   "metadata": {},
   "source": [
    "## Zadanie 12"
   ]
  },
  {
   "cell_type": "code",
   "execution_count": 44,
   "metadata": {},
   "outputs": [],
   "source": [
    "def losuj(x, n, p):\n",
    "    return x[np.digitize(np.random.uniform(size=n), np.cumsum(p))]"
   ]
  },
  {
   "cell_type": "code",
   "execution_count": 45,
   "metadata": {},
   "outputs": [
    {
     "data": {
      "text/plain": [
       "array([1, 2, 3, 2, 3, 2, 2, 2, 2, 2, 2, 1, 2, 1, 2, 2, 2, 2, 2, 2, 3, 1,\n",
       "       3, 2, 2, 3, 1, 2, 1, 2, 2, 3, 2, 2, 3, 2, 2, 2, 4, 2, 2, 1, 2, 2,\n",
       "       1, 3, 4, 4, 2, 3, 4, 2, 3, 2, 2, 2, 2, 3, 1, 2, 2, 2, 2, 2, 1, 2,\n",
       "       3, 2, 2, 3, 2, 2, 2, 2, 2, 2, 4, 2, 1, 4, 1, 1, 2, 2, 2, 2, 3, 2,\n",
       "       4, 2, 2, 2, 2, 2, 1, 2, 2, 2, 4, 2])"
      ]
     },
     "execution_count": 45,
     "metadata": {},
     "output_type": "execute_result"
    }
   ],
   "source": [
    "y = np.array([1, 2, 3, 4])\n",
    "losuj(y, 100, p = [0.1, 0.6, 0.2, 0.1])"
   ]
  },
  {
   "cell_type": "markdown",
   "metadata": {},
   "source": [
    "## Zadanie 13"
   ]
  },
  {
   "cell_type": "code",
   "execution_count": 200,
   "metadata": {},
   "outputs": [
    {
     "data": {
      "image/png": "[encoded data removed]",
      "text/plain": [
       "<Figure size 432x288 with 1 Axes>"
      ]
     },
     "metadata": {},
     "output_type": "display_data"
    }
   ],
   "source": [
    "import matplotlib\n",
    "import matplotlib.pyplot as plt\n",
    "%matplotlib inline\n",
    "\n",
    "x = np.array([-5,-3,2,7])\n",
    "y = np.array([4,5,-8,8])\n",
    "z = np.array([-4,-2,0,1,5])\n",
    "\n",
    "def interpolacja(x, y, z):\n",
    "    indeksy = np.digitize(z, x, right=)\n",
    "    x_0 = x[indeksy - 1]\n",
    "    x_1 = x[indeksy]\n",
    "    y_0 = y[indeksy -1]\n",
    "    y_1 = y[indeksy] \n",
    "    return y_0 + ((y_1-y_0)/(x_1-x_0))*(z-x_0)\n",
    "    \n",
    "y_z = interpolacja(x, y, z)\n",
    "\n",
    "plt.plot(x, y, 'r')\n",
    "plt.plot(z, y_z,'o')\n",
    "plt.show()"
   ]
  },
  {
   "cell_type": "markdown",
   "metadata": {},
   "source": [
    "## Zadanie 14"
   ]
  },
  {
   "cell_type": "code",
   "execution_count": 501,
   "metadata": {},
   "outputs": [],
   "source": [
    "x = np.array([[1,10,3], [15,5,6], [7,8,9]])"
   ]
  },
  {
   "cell_type": "code",
   "execution_count": 505,
   "metadata": {},
   "outputs": [],
   "source": [
    "def softmax(x):\n",
    "    A_exp = np.exp(x)\n",
    "    s = A_exp / np.sum(A_exp, axis=1).reshape(-1,1)\n",
    "    return np.argmax(s, axis=1)"
   ]
  },
  {
   "cell_type": "code",
   "execution_count": 506,
   "metadata": {},
   "outputs": [
    {
     "data": {
      "text/plain": [
       "array([1, 0, 2])"
      ]
     },
     "execution_count": 506,
     "metadata": {},
     "output_type": "execute_result"
    }
   ],
   "source": [
    "softmax(x)"
   ]
  },
  {
   "cell_type": "markdown",
   "metadata": {},
   "source": [
    "## Zadanie 15"
   ]
  },
  {
   "cell_type": "code",
   "execution_count": 46,
   "metadata": {},
   "outputs": [
    {
     "name": "stdout",
     "output_type": "stream",
     "text": [
      "[3 3 3 3 4 5 6 6 6 6]\n"
     ]
    },
    {
     "data": {
      "text/plain": [
       "4.5"
      ]
     },
     "execution_count": 46,
     "metadata": {},
     "output_type": "execute_result"
    }
   ],
   "source": [
    "x = np.array([5,4,8,1,3,2,7,6,9,0])\n",
    "k = 3\n",
    "def srednia_k(x, k):\n",
    "    x_sort = np.sort(x)\n",
    "    x_sort[:k] = x_sort[k]\n",
    "    x_sort[-k:] = x_sort[-k-1]\n",
    "    print(x_sort)\n",
    "    return np.sum(x_sort) / x.size\n",
    "\n",
    "srednia_k(x, 3)"
   ]
  },
  {
   "cell_type": "markdown",
   "metadata": {},
   "source": [
    "## Zadanie 16"
   ]
  },
  {
   "cell_type": "code",
   "execution_count": 266,
   "metadata": {},
   "outputs": [],
   "source": [
    "def factorial_stirling(x):\n",
    "    return ((x / np.e) ** x) * np.sqrt(2 * np.pi * x) "
   ]
  },
  {
   "cell_type": "code",
   "execution_count": 268,
   "metadata": {},
   "outputs": [
    {
     "data": {
      "text/plain": [
       "1.0076024283104945"
      ]
     },
     "execution_count": 268,
     "metadata": {},
     "output_type": "execute_result"
    }
   ],
   "source": [
    "np.math.factorial(11) / factorial_stirling(11)"
   ]
  },
  {
   "cell_type": "code",
   "execution_count": 269,
   "metadata": {},
   "outputs": [],
   "source": [
    "n = np.arange(10)\n",
    "przyblizone = factorial_stirling(n)\n",
    "factorial_vect = np.vectorize(np.math.factorial)\n",
    "dokladne = factorial_vect(10)\n",
    "blad_bezwzgledny = np.abs(przyblizone - dokladne)\n",
    "blad_wzgedny = np.abs(przyblizone - dokladne) / dokladne"
   ]
  },
  {
   "cell_type": "code",
   "execution_count": 270,
   "metadata": {},
   "outputs": [
    {
     "data": {
      "text/plain": [
       "array([3628800.        , 3628799.07786299, 3628798.08099565,\n",
       "       3628794.16379041, 3628776.49382487, 3628681.98083204,\n",
       "       3628089.92181536, 3623819.60416839, 3588897.60454734,\n",
       "       3269263.12715805])"
      ]
     },
     "execution_count": 270,
     "metadata": {},
     "output_type": "execute_result"
    }
   ],
   "source": [
    "blad_bezwzgledny"
   ]
  },
  {
   "cell_type": "code",
   "execution_count": 271,
   "metadata": {},
   "outputs": [
    {
     "data": {
      "text/plain": [
       "array([1.        , 0.99999975, 0.99999947, 0.99999839, 0.99999352,\n",
       "       0.99996748, 0.99980432, 0.99862754, 0.98900397, 0.90092128])"
      ]
     },
     "execution_count": 271,
     "metadata": {},
     "output_type": "execute_result"
    }
   ],
   "source": [
    "blad_wzgedny"
   ]
  },
  {
   "cell_type": "markdown",
   "metadata": {},
   "source": [
    "## Zadanie 17"
   ]
  },
  {
   "cell_type": "code",
   "execution_count": 299,
   "metadata": {},
   "outputs": [],
   "source": [
    "def pi_leibniza(n):\n",
    "    z = np.arange(n)\n",
    "    x = np.sum((-1) ** z / (2 * z + 1))\n",
    "    return x * 4\n",
    "#     x = (-1) ** n / (2 * n + 1)\n",
    "#     vec = np.repeat(x, n)\n",
    "#     return np.sum(vec) * 4\n",
    "    "
   ]
  },
  {
   "cell_type": "code",
   "execution_count": 303,
   "metadata": {},
   "outputs": [
    {
     "data": {
      "text/plain": [
       "3.140592653839792"
      ]
     },
     "execution_count": 303,
     "metadata": {},
     "output_type": "execute_result"
    }
   ],
   "source": [
    "pi_leibniza(1000)"
   ]
  },
  {
   "cell_type": "markdown",
   "metadata": {},
   "source": [
    "## Zadanie 18"
   ]
  },
  {
   "cell_type": "code",
   "execution_count": 48,
   "metadata": {},
   "outputs": [],
   "source": [
    "def monte_carlo_pi(n):\n",
    "    z = ((np.random.uniform(-1,1, n) ** 2) + (np.random.uniform(-1,1, n) ** 2)) <= 1\n",
    "    return np.round((np.sum(z) / z.size * 4), 2)"
   ]
  },
  {
   "cell_type": "code",
   "execution_count": 49,
   "metadata": {},
   "outputs": [
    {
     "name": "stdout",
     "output_type": "stream",
     "text": [
      "2.84 ms ± 20.1 µs per loop (mean ± std. dev. of 7 runs, 100 loops each)\n"
     ]
    }
   ],
   "source": [
    "%timeit monte_carlo_pi(100000)"
   ]
  },
  {
   "cell_type": "markdown",
   "metadata": {},
   "source": [
    "## Zadanie 19"
   ]
  },
  {
   "cell_type": "code",
   "execution_count": 473,
   "metadata": {},
   "outputs": [],
   "source": [
    "def mean_na(x):\n",
    "    x[np.isnan(x)] = np.nanmean(x)\n",
    "    return x"
   ]
  },
  {
   "cell_type": "code",
   "execution_count": 474,
   "metadata": {},
   "outputs": [],
   "source": [
    "x = np.array([1, np.NaN, 5, np.NaN, 3])"
   ]
  },
  {
   "cell_type": "code",
   "execution_count": 475,
   "metadata": {},
   "outputs": [
    {
     "data": {
      "text/plain": [
       "array([1., 3., 5., 3., 3.])"
      ]
     },
     "execution_count": 475,
     "metadata": {},
     "output_type": "execute_result"
    }
   ],
   "source": [
    "mean_na(x)"
   ]
  },
  {
   "cell_type": "markdown",
   "metadata": {},
   "source": [
    "## Zadanie 20"
   ]
  },
  {
   "cell_type": "code",
   "execution_count": 400,
   "metadata": {},
   "outputs": [],
   "source": [
    "def pi_dec(n):\n",
    "    lista = list(np.str(np.modf(np.pi)[0])[:n+1])\n",
    "    lista.remove('.')\n",
    "    return lista"
   ]
  },
  {
   "cell_type": "code",
   "execution_count": 401,
   "metadata": {},
   "outputs": [
    {
     "data": {
      "text/plain": [
       "['0', '1', '4', '1']"
      ]
     },
     "execution_count": 401,
     "metadata": {},
     "output_type": "execute_result"
    }
   ],
   "source": [
    "pi_dec(4)"
   ]
  },
  {
   "cell_type": "markdown",
   "metadata": {},
   "source": [
    "## Zadanie 21"
   ]
  },
  {
   "cell_type": "code",
   "execution_count": 418,
   "metadata": {},
   "outputs": [],
   "source": [
    "def moda(x):\n",
    "    y = np.unique(x, return_counts=True)\n",
    "    return y[0][np.argmax(y[1])]"
   ]
  },
  {
   "cell_type": "code",
   "execution_count": 419,
   "metadata": {},
   "outputs": [],
   "source": [
    "x = np.array([1, 1, 1, 2, 2, 2, 4,4,4,4,4, 5, 5])"
   ]
  },
  {
   "cell_type": "code",
   "execution_count": 420,
   "metadata": {},
   "outputs": [
    {
     "data": {
      "text/plain": [
       "4"
      ]
     },
     "execution_count": 420,
     "metadata": {},
     "output_type": "execute_result"
    }
   ],
   "source": [
    "moda(x)"
   ]
  },
  {
   "cell_type": "markdown",
   "metadata": {},
   "source": [
    "## Zadanie 22"
   ]
  },
  {
   "cell_type": "code",
   "execution_count": 434,
   "metadata": {},
   "outputs": [],
   "source": [
    "x = np.random.uniform(-5, 5, 1000)\n",
    "y = 2 * x + 3 + np.random.normal(loc=0, scale=1, size = 1000)"
   ]
  },
  {
   "cell_type": "code",
   "execution_count": 435,
   "metadata": {},
   "outputs": [],
   "source": [
    "def regression(x, y):\n",
    "    x_mean = np.mean(x)\n",
    "    y_mean = np.mean(y)\n",
    "    b = np.sum((x - x_mean) * (y - y_mean)) / np.sum((x - x_mean) ** 2)\n",
    "    a = y_mean - b * x_mean\n",
    "    return (a, b)"
   ]
  },
  {
   "cell_type": "code",
   "execution_count": 438,
   "metadata": {},
   "outputs": [],
   "source": [
    "regresja = regression(x, y)\n",
    "y_estymowane = regresja[0] * x + regresja[1]"
   ]
  },
  {
   "cell_type": "code",
   "execution_count": 449,
   "metadata": {},
   "outputs": [
    {
     "data": {
      "image/png": "[encoded data removed]",
      "text/plain": [
       "<Figure size 432x288 with 1 Axes>"
      ]
     },
     "metadata": {},
     "output_type": "display_data"
    }
   ],
   "source": [
    "plt.plot(x, y, 'o')\n",
    "plt.plot(x, y_estymowane,'r')\n",
    "plt.text(1.5, -10, f'y = {np.round(regresja[0],4)}x + {np.round(regresja[1],4)}')\n",
    "plt.show()"
   ]
  },
  {
   "cell_type": "markdown",
   "metadata": {},
   "source": [
    "## Zadanie 23, 24"
   ]
  },
  {
   "cell_type": "code",
   "execution_count": 457,
   "metadata": {},
   "outputs": [],
   "source": [
    "A = np.array([[1,2,3], [4,5,6], [7,7,9]])"
   ]
  },
  {
   "cell_type": "code",
   "execution_count": 458,
   "metadata": {},
   "outputs": [
    {
     "data": {
      "text/plain": [
       "array([[1, 2, 3],\n",
       "       [4, 5, 6],\n",
       "       [7, 7, 9]])"
      ]
     },
     "execution_count": 458,
     "metadata": {},
     "output_type": "execute_result"
    }
   ],
   "source": [
    "A"
   ]
  },
  {
   "cell_type": "code",
   "execution_count": 466,
   "metadata": {},
   "outputs": [
    {
     "data": {
      "text/plain": [
       "array([[7, 7, 9],\n",
       "       [4, 5, 6],\n",
       "       [1, 2, 3]])"
      ]
     },
     "execution_count": 466,
     "metadata": {},
     "output_type": "execute_result"
    }
   ],
   "source": [
    "A[::-1, :]"
   ]
  },
  {
   "cell_type": "code",
   "execution_count": 467,
   "metadata": {},
   "outputs": [
    {
     "data": {
      "text/plain": [
       "array([[3, 2, 1],\n",
       "       [6, 5, 4],\n",
       "       [9, 7, 7]])"
      ]
     },
     "execution_count": 467,
     "metadata": {},
     "output_type": "execute_result"
    }
   ],
   "source": [
    "A[:,::-1]"
   ]
  },
  {
   "cell_type": "code",
   "execution_count": 468,
   "metadata": {},
   "outputs": [
    {
     "data": {
      "text/plain": [
       "array([[7, 7, 9],\n",
       "       [4, 5, 6],\n",
       "       [1, 2, 3]])"
      ]
     },
     "execution_count": 468,
     "metadata": {},
     "output_type": "execute_result"
    }
   ],
   "source": [
    "np.flip(A, axis=0)"
   ]
  },
  {
   "cell_type": "code",
   "execution_count": 469,
   "metadata": {},
   "outputs": [
    {
     "data": {
      "text/plain": [
       "array([[3, 2, 1],\n",
       "       [6, 5, 4],\n",
       "       [9, 7, 7]])"
      ]
     },
     "execution_count": 469,
     "metadata": {},
     "output_type": "execute_result"
    }
   ],
   "source": [
    "np.flip(A, axis=1)"
   ]
  },
  {
   "cell_type": "markdown",
   "metadata": {},
   "source": [
    "## Zadanie 27"
   ]
  },
  {
   "cell_type": "code",
   "execution_count": 525,
   "metadata": {},
   "outputs": [],
   "source": [
    "def encod(x):\n",
    "    n = x.size\n",
    "    k = n - 1\n",
    "    A = np.zeros([n, k])\n",
    "    A[np.arange(x.size), x] = 1\n",
    "    return A"
   ]
  },
  {
   "cell_type": "code",
   "execution_count": 526,
   "metadata": {},
   "outputs": [],
   "source": [
    "x = np.array([0, 2, 1, 2])"
   ]
  },
  {
   "cell_type": "code",
   "execution_count": 528,
   "metadata": {},
   "outputs": [
    {
     "data": {
      "text/plain": [
       "array([[1., 0., 0.],\n",
       "       [0., 0., 1.],\n",
       "       [0., 1., 0.],\n",
       "       [0., 0., 1.]])"
      ]
     },
     "execution_count": 528,
     "metadata": {},
     "output_type": "execute_result"
    }
   ],
   "source": [
    " encod(x)"
   ]
  },
  {
   "cell_type": "markdown",
   "metadata": {},
   "source": [
    "#### podejscie 2"
   ]
  },
  {
   "cell_type": "code",
   "execution_count": null,
   "metadata": {},
   "outputs": [],
   "source": [
    "def encod(T):\n",
    "    n = x.size\n",
    "    k = n - 1\n",
    "    A = np.ones([n, k])\n",
    "    A[np.arange(x.size), x] = 1\n",
    "    return A"
   ]
  },
  {
   "cell_type": "markdown",
   "metadata": {},
   "source": [
    "## Zadanie 28"
   ]
  },
  {
   "cell_type": "code",
   "execution_count": null,
   "metadata": {},
   "outputs": [],
   "source": []
  },
  {
   "cell_type": "markdown",
   "metadata": {},
   "source": [
    "## Zadanie 25"
   ]
  },
  {
   "cell_type": "code",
   "execution_count": 534,
   "metadata": {},
   "outputs": [],
   "source": [
    "punkty = np.random.uniform(-5, 5, size=(25,3))"
   ]
  },
  {
   "cell_type": "code",
   "execution_count": 535,
   "metadata": {},
   "outputs": [
    {
     "data": {
      "text/plain": [
       "array([[-2.33418982, -0.08532203,  0.98550461],\n",
       "       [ 2.66629541,  0.46924877,  4.66567034],\n",
       "       [ 1.0999925 ,  2.44639223, -4.66883571],\n",
       "       [ 1.0950774 , -0.99054784, -3.79375817],\n",
       "       [-0.28523736,  3.53810261,  3.11179758],\n",
       "       [ 1.94743572,  0.51117329,  4.07400848],\n",
       "       [-4.87321451, -3.86626995, -4.38913567],\n",
       "       [ 3.88480322,  1.90383132,  3.78848593],\n",
       "       [ 3.6387061 ,  0.6760984 ,  0.53279284],\n",
       "       [-2.93340098, -3.98238339,  3.36122857],\n",
       "       [ 0.85440796, -3.65718379, -0.53014665],\n",
       "       [ 3.65124346,  3.50250582,  0.92729493],\n",
       "       [ 2.75163794, -4.56880642,  3.81838114],\n",
       "       [ 2.98399373,  3.20568035, -4.50906182],\n",
       "       [ 1.53322029, -2.78661781, -4.86853974],\n",
       "       [ 2.52067842, -3.75745297, -2.61432933],\n",
       "       [ 1.36139638, -2.13922455,  3.68400909],\n",
       "       [ 0.43731831, -4.37057733, -4.47201984],\n",
       "       [-0.65172866,  2.30905942,  3.41576443],\n",
       "       [-0.37660069,  0.30123907,  2.97662417],\n",
       "       [ 0.06440849, -4.73937878, -0.17170946],\n",
       "       [-4.91545601, -2.39946322,  3.67480588],\n",
       "       [-3.35235161,  3.05371795, -3.66652324],\n",
       "       [ 4.77708118, -1.25967178,  0.51178022],\n",
       "       [ 1.31288466, -4.38676259,  3.33407049]])"
      ]
     },
     "execution_count": 535,
     "metadata": {},
     "output_type": "execute_result"
    }
   ],
   "source": [
    "punkty"
   ]
  },
  {
   "cell_type": "code",
   "execution_count": 536,
   "metadata": {},
   "outputs": [
    {
     "data": {
      "text/plain": [
       "array([[-4.91545601, -4.73937878, -4.86853974],\n",
       "       [ 4.77708118,  3.53810261,  4.66567034]])"
      ]
     },
     "execution_count": 536,
     "metadata": {},
     "output_type": "execute_result"
    }
   ],
   "source": [
    "np.array([np.min(punkty, axis=0),np.max(punkty, axis=0)])"
   ]
  },
  {
   "cell_type": "code",
   "execution_count": 539,
   "metadata": {},
   "outputs": [
    {
     "data": {
      "text/plain": [
       "array([[-4.91545601, -4.73937878, -4.86853974],\n",
       "       [ 4.77708118,  3.53810261,  4.66567034]])"
      ]
     },
     "execution_count": 539,
     "metadata": {},
     "output_type": "execute_result"
    }
   ],
   "source": [
    "np.vstack((np.min(punkty, axis=0),np.max(punkty, axis=0)))"
   ]
  },
  {
   "cell_type": "code",
   "execution_count": 542,
   "metadata": {},
   "outputs": [
    {
     "data": {
      "text/plain": [
       "array([[-4.91545601, -4.73937878, -4.86853974],\n",
       "       [ 4.77708118,  3.53810261,  4.66567034]])"
      ]
     },
     "execution_count": 542,
     "metadata": {},
     "output_type": "execute_result"
    }
   ],
   "source": [
    "np.r_[(np.min(punkty, axis=0),np.max(punkty, axis=0))].reshape(2,-1)"
   ]
  },
  {
   "cell_type": "markdown",
   "metadata": {},
   "source": [
    "## Zadanie 26"
   ]
  },
  {
   "cell_type": "code",
   "execution_count": 544,
   "metadata": {},
   "outputs": [
    {
     "data": {
      "text/plain": [
       "array([[10.65104967, 10.67900082, 10.4831031 ],\n",
       "       [ 9.81524971,  9.61585481,  9.48583608],\n",
       "       [ 8.41976038,  8.02717067,  7.98176999],\n",
       "       [ 8.51469182,  8.57904105,  8.37466538],\n",
       "       [ 7.75082926,  7.66542966,  7.49746369],\n",
       "       [10.51102877, 10.2608342 , 10.15031331],\n",
       "       [ 8.05812685,  8.2139111 ,  7.99329517],\n",
       "       [ 8.98774855,  9.26183322,  9.02846682],\n",
       "       [10.60037635, 10.6763872 , 10.47030353],\n",
       "       [ 7.11327517,  6.72891254,  6.67853404],\n",
       "       [10.06397129,  9.86449945,  9.7345997 ],\n",
       "       [10.72571837, 10.74201651, 10.54880266],\n",
       "       [ 5.23322081,  4.85726648,  4.80107173],\n",
       "       [ 9.79380775,  9.87254791,  9.66571859],\n",
       "       [ 1.69810576,  1.51393775,  1.35969981],\n",
       "       [10.24702883, 10.20600347, 10.02686261],\n",
       "       [ 1.48488584,  1.44860753,  1.24917012],\n",
       "       [10.26034991, 10.07320447,  9.93897318],\n",
       "       [ 9.29582717,  9.52445369,  9.29498645],\n",
       "       [ 4.65593597,  4.78800086,  4.569111  ],\n",
       "       [ 5.92427677,  5.52719078,  5.48299298],\n",
       "       [ 7.84761206,  7.78359834,  7.60964671],\n",
       "       [ 7.66345866,  7.70150252,  7.5022826 ],\n",
       "       [ 4.51263883,  4.59233748,  4.38220806],\n",
       "       [ 7.96105802,  8.0743532 ,  7.86054345]])"
      ]
     },
     "execution_count": 544,
     "metadata": {},
     "output_type": "execute_result"
    }
   ],
   "source": [
    "import scipy\n",
    "import scipy.spatial\n",
    "from scipy.spatial import distance_matrix\n",
    "\n",
    "X = np.random.uniform(-5, 4, size=(25,2))\n",
    "Y = np.random.uniform(4, 5, size=(3,2))\n",
    "\n",
    "scipy.spatial.distance_matrix(X, Y)\n",
    "\n",
    "\n"
   ]
  },
  {
   "cell_type": "code",
   "execution_count": null,
   "metadata": {},
   "outputs": [],
   "source": []
  }
 ],
 "metadata": {
  "kernelspec": {
   "display_name": "Python 3",
   "language": "python",
   "name": "python3"
  },
  "language_info": {
   "codemirror_mode": {
    "name": "ipython",
    "version": 3
   },
   "file_extension": ".py",
   "mimetype": "text/x-python",
   "name": "python",
   "nbconvert_exporter": "python",
   "pygments_lexer": "ipython3",
   "version": "3.6.5"
  }
 },
 "nbformat": 4,
 "nbformat_minor": 2
}
