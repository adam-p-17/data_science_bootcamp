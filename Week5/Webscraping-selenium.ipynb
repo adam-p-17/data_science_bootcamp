{
 "cells": [
  {
   "cell_type": "code",
   "execution_count": 21,
   "metadata": {},
   "outputs": [],
   "source": [
    "from selenium import webdriver\n",
    "from selenium.webdriver.common.keys import Keys\n",
    "import time\n",
    "from bs4 import BeautifulSoup"
   ]
  },
  {
   "cell_type": "code",
   "execution_count": 6,
   "metadata": {},
   "outputs": [],
   "source": [
    "driver = webdriver.Firefox()\n",
    "driver.get(\"http://www.python.org\")\n",
    "assert \"Python\" in driver.title\n",
    "elem = driver.find_element_by_name(\"q\")\n",
    "elem.clear()\n",
    "elem.send_keys(\"pycon\")\n",
    "elem.send_keys(Keys.RETURN)\n",
    "time.sleep(2)\n",
    "assert \"No results found.\" not in driver.page_source\n",
    "driver.close()"
   ]
  },
  {
   "cell_type": "code",
   "execution_count": 28,
   "metadata": {},
   "outputs": [
    {
     "data": {
      "text/plain": [
       "134"
      ]
     },
     "execution_count": 28,
     "metadata": {},
     "output_type": "execute_result"
    }
   ],
   "source": [
    "driver = webdriver.Firefox()\n",
    "driver.get(\"https://nik.bot.nu/brws.html#list/tag:berserk/\")\n",
    "assert \"Imageboard\" in driver.title\n",
    "SCROLL_PAUSE_TIME = 0.5\n",
    "\n",
    "# Get scroll height\n",
    "last_height = driver.execute_script(\"return document.body.scrollHeight\")\n",
    "\n",
    "while True:\n",
    "    # Scroll down to bottom\n",
    "    driver.execute_script(\"window.scrollTo(0, document.body.scrollHeight);\")\n",
    "    # Wait to load page\n",
    "    time.sleep(SCROLL_PAUSE_TIME)\n",
    "    # Calculate new scroll height and compare with last scroll height\n",
    "    new_height = driver.execute_script(\"return document.body.scrollHeight\")\n",
    "    if new_height == last_height:\n",
    "        break\n",
    "    last_height = new_height\n",
    "\n",
    "time.sleep(6)\n",
    "image = driver.find_elements_by_class_name('image-block')\n",
    "driver.close()\n",
    "len(image)\n",
    "# time.sleep(2)    \n",
    "# page = driver.page_source\n",
    "# driver.close()\n",
    "# soup = BeautifulSoup(page, 'html.parser')\n",
    "# lista = soup.find_all('img')\n",
    "# len(lista)"
   ]
  },
  {
   "cell_type": "code",
   "execution_count": 29,
   "metadata": {},
   "outputs": [],
   "source": [
    "### Logowanie"
   ]
  },
  {
   "cell_type": "code",
   "execution_count": 42,
   "metadata": {},
   "outputs": [
    {
     "data": {
      "text/plain": [
       "[<span class=\"pull-right text-italic text-underscore\">0 / 85</span>,\n",
       " <span class=\"pull-right text-italic text-underscore\">0</span>]"
      ]
     },
     "execution_count": 42,
     "metadata": {},
     "output_type": "execute_result"
    }
   ],
   "source": [
    "driver = webdriver.Firefox()\n",
    "driver.get(\"https://sos.mini.pw.edu.pl/Login\")\n",
    "assert \"SOS\" in driver.title\n",
    "username = driver.find_element_by_id(\"username\")\n",
    "username.clear()\n",
    "username.send_keys(\"252087\")\n",
    "password = driver.find_element_by_id(\"password\")\n",
    "password.clear()\n",
    "password.send_keys(\"Iw252087\")\n",
    "password.submit()\n",
    "time.sleep(5)\n",
    "driver.get(\"https://sos.mini.pw.edu.pl/Student/Scores\")\n",
    "time.sleep(5)\n",
    "page = driver.page_source\n",
    "\n",
    "driver.close()\n",
    "\n",
    "soup = BeautifulSoup(page, 'html.parser')\n",
    "soup.find_all(class_='pull-right text-italic text-underscore')"
   ]
  },
  {
   "cell_type": "code",
   "execution_count": null,
   "metadata": {},
   "outputs": [],
   "source": []
  }
 ],
 "metadata": {
  "kernelspec": {
   "display_name": "Python 3",
   "language": "python",
   "name": "python3"
  },
  "language_info": {
   "codemirror_mode": {
    "name": "ipython",
    "version": 3
   },
   "file_extension": ".py",
   "mimetype": "text/x-python",
   "name": "python",
   "nbconvert_exporter": "python",
   "pygments_lexer": "ipython3",
   "version": "3.6.5"
  }
 },
 "nbformat": 4,
 "nbformat_minor": 2
}
