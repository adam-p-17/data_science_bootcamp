{
 "cells": [
  {
   "cell_type": "code",
   "execution_count": 1,
   "metadata": {},
   "outputs": [],
   "source": [
    "import io, os.path, re\n",
    "import requests, urllib, json\n",
    "import pandas as pd\n",
    "import numpy as np"
   ]
  },
  {
   "cell_type": "code",
   "execution_count": 16,
   "metadata": {},
   "outputs": [],
   "source": [
    "def mojeIP():\n",
    "    r = requests.get('https://httpbin.org/ip')\n",
    "    text = r.text\n",
    "    dane = json.loads(text)\n",
    "    return dane['origin']"
   ]
  },
  {
   "cell_type": "code",
   "execution_count": 17,
   "metadata": {},
   "outputs": [
    {
     "data": {
      "text/plain": [
       "'217.67.203.51'"
      ]
     },
     "execution_count": 17,
     "metadata": {},
     "output_type": "execute_result"
    }
   ],
   "source": [
    "mojeIP()"
   ]
  },
  {
   "cell_type": "code",
   "execution_count": 51,
   "metadata": {},
   "outputs": [],
   "source": [
    "def facts(number=7, fact_type='math'):\n",
    "    if fact_type in [\"math\", \"date\", \"year\", \"trivia\"]:\n",
    "        url = f'http://numbersapi.com/{number}/{fact_type}?json'\n",
    "        r = requests.get(url)\n",
    "        text = r.text\n",
    "        fact = json.loads(text)\n",
    "        return fact[\"text\"]\n",
    "    else:\n",
    "        return \"Błędny typ faktu\""
   ]
  },
  {
   "cell_type": "code",
   "execution_count": 52,
   "metadata": {},
   "outputs": [
    {
     "data": {
      "text/plain": [
       "'7 is the only dimension, besides the familiar 3, in which a vector cross product can be defined.'"
      ]
     },
     "execution_count": 52,
     "metadata": {},
     "output_type": "execute_result"
    }
   ],
   "source": [
    "facts()"
   ]
  },
  {
   "cell_type": "code",
   "execution_count": 67,
   "metadata": {},
   "outputs": [],
   "source": [
    "def masoweCiekawostki(start, end, typ): \n",
    "    if typ in [\"math\", \"date\", \"year\", \"trivia\"]:\n",
    "        dane = []\n",
    "        url = f'http://numbersapi.com/{start}..{end}/{typ}?json'\n",
    "        r = requests.get(url)\n",
    "        text = r.text\n",
    "        fact = json.loads(text)\n",
    "        for key in fact.keys():\n",
    "            dane.append(fact[key][\"text\"])\n",
    "        return pd.DataFrame({\"Ciekawostka\":dane})\n",
    "    else:\n",
    "        return(\"Błędny typ faktu\")"
   ]
  },
  {
   "cell_type": "code",
   "execution_count": 68,
   "metadata": {},
   "outputs": [
    {
     "data": {
      "text/html": [
       "<div>\n",
       "<style scoped>\n",
       "    .dataframe tbody tr th:only-of-type {\n",
       "        vertical-align: middle;\n",
       "    }\n",
       "\n",
       "    .dataframe tbody tr th {\n",
       "        vertical-align: top;\n",
       "    }\n",
       "\n",
       "    .dataframe thead th {\n",
       "        text-align: right;\n",
       "    }\n",
       "</style>\n",
       "<table border=\"1\" class=\"dataframe\">\n",
       "  <thead>\n",
       "    <tr style=\"text-align: right;\">\n",
       "      <th></th>\n",
       "      <th>Ciekawostka</th>\n",
       "    </tr>\n",
       "  </thead>\n",
       "  <tbody>\n",
       "    <tr>\n",
       "      <th>0</th>\n",
       "      <td>2000 is the year that Disney's Paradise Pier H...</td>\n",
       "    </tr>\n",
       "    <tr>\n",
       "      <th>1</th>\n",
       "      <td>2001 is the year that FBI agent Robert Hanssen...</td>\n",
       "    </tr>\n",
       "    <tr>\n",
       "      <th>2</th>\n",
       "      <td>2002 is the year that the planetoid Quaoar is ...</td>\n",
       "    </tr>\n",
       "    <tr>\n",
       "      <th>3</th>\n",
       "      <td>2003 is the year that the People's Republic of...</td>\n",
       "    </tr>\n",
       "    <tr>\n",
       "      <th>4</th>\n",
       "      <td>2004 is the year that Hurricane Jeanne makes l...</td>\n",
       "    </tr>\n",
       "    <tr>\n",
       "      <th>5</th>\n",
       "      <td>2005 is the year that the world's largest bank...</td>\n",
       "    </tr>\n",
       "    <tr>\n",
       "      <th>6</th>\n",
       "      <td>2006 is the year that NASA's Stardust mission ...</td>\n",
       "    </tr>\n",
       "    <tr>\n",
       "      <th>7</th>\n",
       "      <td>2007 is the year that the Asia-Pacific Economi...</td>\n",
       "    </tr>\n",
       "    <tr>\n",
       "      <th>8</th>\n",
       "      <td>2008 is the year that India sets a world recor...</td>\n",
       "    </tr>\n",
       "    <tr>\n",
       "      <th>9</th>\n",
       "      <td>2009 is the year that the President of Guinea-...</td>\n",
       "    </tr>\n",
       "    <tr>\n",
       "      <th>10</th>\n",
       "      <td>2010 is the year that an earthquake and conseq...</td>\n",
       "    </tr>\n",
       "  </tbody>\n",
       "</table>\n",
       "</div>"
      ],
      "text/plain": [
       "                                          Ciekawostka\n",
       "0   2000 is the year that Disney's Paradise Pier H...\n",
       "1   2001 is the year that FBI agent Robert Hanssen...\n",
       "2   2002 is the year that the planetoid Quaoar is ...\n",
       "3   2003 is the year that the People's Republic of...\n",
       "4   2004 is the year that Hurricane Jeanne makes l...\n",
       "5   2005 is the year that the world's largest bank...\n",
       "6   2006 is the year that NASA's Stardust mission ...\n",
       "7   2007 is the year that the Asia-Pacific Economi...\n",
       "8   2008 is the year that India sets a world recor...\n",
       "9   2009 is the year that the President of Guinea-...\n",
       "10  2010 is the year that an earthquake and conseq..."
      ]
     },
     "execution_count": 68,
     "metadata": {},
     "output_type": "execute_result"
    }
   ],
   "source": [
    "masoweCiekawostki(2000, 2010, \"year\")"
   ]
  },
  {
   "cell_type": "code",
   "execution_count": 73,
   "metadata": {},
   "outputs": [],
   "source": [
    "def masoweCiekawostki(start, end, typ): \n",
    "    if typ in [\"math\", \"date\", \"year\", \"trivia\"]:\n",
    "        url = f'http://numbersapi.com/{start}..{end}/{typ}?json'\n",
    "        return pd.read_json(url, orient=\"index\")[[\"type\", \"text\"]]\n",
    "    else:\n",
    "        return(\"Błędny typ faktu\")"
   ]
  },
  {
   "cell_type": "code",
   "execution_count": 74,
   "metadata": {},
   "outputs": [
    {
     "data": {
      "text/html": [
       "<div>\n",
       "<style scoped>\n",
       "    .dataframe tbody tr th:only-of-type {\n",
       "        vertical-align: middle;\n",
       "    }\n",
       "\n",
       "    .dataframe tbody tr th {\n",
       "        vertical-align: top;\n",
       "    }\n",
       "\n",
       "    .dataframe thead th {\n",
       "        text-align: right;\n",
       "    }\n",
       "</style>\n",
       "<table border=\"1\" class=\"dataframe\">\n",
       "  <thead>\n",
       "    <tr style=\"text-align: right;\">\n",
       "      <th></th>\n",
       "      <th>type</th>\n",
       "      <th>text</th>\n",
       "    </tr>\n",
       "  </thead>\n",
       "  <tbody>\n",
       "    <tr>\n",
       "      <th>2000</th>\n",
       "      <td>year</td>\n",
       "      <td>2000 is the year that Bashar al-Assad is confi...</td>\n",
       "    </tr>\n",
       "    <tr>\n",
       "      <th>2001</th>\n",
       "      <td>year</td>\n",
       "      <td>2001 is the year that UK politician and noveli...</td>\n",
       "    </tr>\n",
       "    <tr>\n",
       "      <th>2002</th>\n",
       "      <td>year</td>\n",
       "      <td>2002 is the year that Wall Street Journal repo...</td>\n",
       "    </tr>\n",
       "    <tr>\n",
       "      <th>2003</th>\n",
       "      <td>year</td>\n",
       "      <td>2003 is the year that Paul Martin becomes the ...</td>\n",
       "    </tr>\n",
       "    <tr>\n",
       "      <th>2004</th>\n",
       "      <td>year</td>\n",
       "      <td>2004 is the year that the Ukrainian transport ...</td>\n",
       "    </tr>\n",
       "    <tr>\n",
       "      <th>2005</th>\n",
       "      <td>year</td>\n",
       "      <td>2005 is the year that an Australian photojourn...</td>\n",
       "    </tr>\n",
       "    <tr>\n",
       "      <th>2006</th>\n",
       "      <td>year</td>\n",
       "      <td>2006 is the year that a hotel in Mecca, Saudi ...</td>\n",
       "    </tr>\n",
       "    <tr>\n",
       "      <th>2007</th>\n",
       "      <td>year</td>\n",
       "      <td>2007 is the year that Earthquake of 8,2° in To...</td>\n",
       "    </tr>\n",
       "    <tr>\n",
       "      <th>2008</th>\n",
       "      <td>year</td>\n",
       "      <td>2008 is the year that a car bomb detonates, ki...</td>\n",
       "    </tr>\n",
       "    <tr>\n",
       "      <th>2009</th>\n",
       "      <td>year</td>\n",
       "      <td>2009 is the year that the World Health Organiz...</td>\n",
       "    </tr>\n",
       "    <tr>\n",
       "      <th>2010</th>\n",
       "      <td>year</td>\n",
       "      <td>2010 is the year that the World Health Organiz...</td>\n",
       "    </tr>\n",
       "  </tbody>\n",
       "</table>\n",
       "</div>"
      ],
      "text/plain": [
       "      type                                               text\n",
       "2000  year  2000 is the year that Bashar al-Assad is confi...\n",
       "2001  year  2001 is the year that UK politician and noveli...\n",
       "2002  year  2002 is the year that Wall Street Journal repo...\n",
       "2003  year  2003 is the year that Paul Martin becomes the ...\n",
       "2004  year  2004 is the year that the Ukrainian transport ...\n",
       "2005  year  2005 is the year that an Australian photojourn...\n",
       "2006  year  2006 is the year that a hotel in Mecca, Saudi ...\n",
       "2007  year  2007 is the year that Earthquake of 8,2° in To...\n",
       "2008  year  2008 is the year that a car bomb detonates, ki...\n",
       "2009  year  2009 is the year that the World Health Organiz...\n",
       "2010  year  2010 is the year that the World Health Organiz..."
      ]
     },
     "execution_count": 74,
     "metadata": {},
     "output_type": "execute_result"
    }
   ],
   "source": [
    "masoweCiekawostki(2000, 2010, 'year')"
   ]
  },
  {
   "cell_type": "code",
   "execution_count": null,
   "metadata": {},
   "outputs": [],
   "source": []
  }
 ],
 "metadata": {
  "kernelspec": {
   "display_name": "Python 3",
   "language": "python",
   "name": "python3"
  },
  "language_info": {
   "codemirror_mode": {
    "name": "ipython",
    "version": 3
   },
   "file_extension": ".py",
   "mimetype": "text/x-python",
   "name": "python",
   "nbconvert_exporter": "python",
   "pygments_lexer": "ipython3",
   "version": "3.6.5"
  }
 },
 "nbformat": 4,
 "nbformat_minor": 2
}
