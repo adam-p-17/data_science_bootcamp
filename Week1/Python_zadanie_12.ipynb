{
 "cells": [
  {
   "cell_type": "markdown",
   "metadata": {},
   "source": [
    "# Zadanie 12"
   ]
  },
  {
   "cell_type": "markdown",
   "metadata": {},
   "source": [
    "<h5>Na podstawie zadań 10 i 11 stwórz klasę ClassInterpretation. Klasa posiada metody:</h5>\n",
    "<ol>\n",
    "    <li>Zwracające dane odnośnie:</li>\n",
    "    <ol>\n",
    "        <li>Średniej</li>\n",
    "        <li>Mediany</li>\n",
    "    </ol>\n",
    "    <li>Metoda str wykonana na obiekcie będzie opisywać słownie grupę studentów</li>\n",
    "    <li>Metoda float będzie zwracać średnią wszystkich studentów zaokrągloną do 2 miejsca po przecinku</li>\n",
    "    <li>Dokonaj wizuazlizacji grupy studentow (zaleznosc wyniki ocen od ilosci opuszczonych zajec)</li>\n",
    "    <li>Dokonaj predykcji dla studenta</li>\n",
    "</ol>"
   ]
  },
  {
   "cell_type": "code",
   "execution_count": 84,
   "metadata": {},
   "outputs": [],
   "source": [
    "import numpy as np\n",
    "from faker import Faker\n",
    "fake = Faker()\n",
    "from random import randint\n",
    "import matplotlib.pyplot as plt\n",
    "from sklearn.linear_model import LinearRegression"
   ]
  },
  {
   "cell_type": "code",
   "execution_count": 85,
   "metadata": {},
   "outputs": [],
   "source": [
    "class Student:\n",
    "    def __init__(self, imie, nazwisko, nr_albumu, lista_ocen, nieobecnosci):\n",
    "        self.imie = imie\n",
    "        self.nazwisko = nazwisko\n",
    "        self.nr_albumu = nr_albumu\n",
    "        self.lista_ocen = lista_ocen\n",
    "        self.nieobecnosci = nieobecnosci\n",
    "    \n",
    "    def przedstaw(self):\n",
    "        srednia = np.mean(self.lista_ocen)\n",
    "        if self.nieobecnosci > 2:\n",
    "            frekwencja = 'słabą'\n",
    "        else:\n",
    "            frekwencja = 'dobrą'\n",
    "        return f'Student: {self.imie} {self.nazwisko}, index: {self.nr_albumu} ma średnią ocen: {srednia}, jest studentem ze {frekwencja} frekwencją.'\n",
    "    \n",
    "    @property\n",
    "    def srednia_ocen(self):\n",
    "        return np.mean(self.lista_ocen)\n",
    "        "
   ]
  },
  {
   "cell_type": "code",
   "execution_count": 86,
   "metadata": {},
   "outputs": [],
   "source": [
    "def generuj_studentow(liczba_studentów):\n",
    "    lista = list()\n",
    "    for i in range(liczba_studentów):\n",
    "        imie = fake.first_name()\n",
    "        nazwisko = fake.last_name()\n",
    "        nr_albumu = fake.credit_card_number(card_type=None)\n",
    "        oceny = [randint(a=2, b=5), randint(a=2, b=5), randint(a=2, b=5), randint(a=2, b=5)]\n",
    "        nieobecnosci = randint(1,10)\n",
    "        student = Student(imie, nazwisko, nr_albumu, oceny, nieobecnosci)\n",
    "        lista.append(student)\n",
    "    return lista"
   ]
  },
  {
   "cell_type": "code",
   "execution_count": 87,
   "metadata": {},
   "outputs": [],
   "source": [
    "class ClassInterpretation():\n",
    "    def __init__(self, lista_studentow):\n",
    "        self.lista_studentow = lista_studentow\n",
    "    \n",
    "    def lista_neobecnosci(self):\n",
    "        lista_nieobecnosci = [i.nieobecnosci for i in self.lista_studentow]\n",
    "        return lista_nieobecnosci\n",
    "        \n",
    "    def lista_ocen(self):\n",
    "        lista_ocen = [i.srednia_ocen for i in self.lista_studentow]\n",
    "        return lista_ocen\n",
    "    \n",
    "    def srednia(self):\n",
    "        lista_ocen = [i.srednia_ocen for i in self.lista_studentow]\n",
    "        return np.mean(lista_ocen)\n",
    "    \n",
    "    def mediana(self):\n",
    "        lista_ocen = [i.srednia_ocen for i in self.lista_studentow]\n",
    "        return np.median(lista_ocen)\n",
    "    \n",
    "    def __str__(self):\n",
    "        return f'Grupa składa się z {len(self.lista_studentow)} studentów. Średnia ocen w grupie wynosi {self.srednia()}, a mediana {self.mediana()}.'\n",
    "        \n",
    "    def __float__(self):\n",
    "        return float(round(self.srednia(),2))\n",
    "    "
   ]
  },
  {
   "cell_type": "code",
   "execution_count": 88,
   "metadata": {},
   "outputs": [],
   "source": [
    "lista = generuj_studentow(10)\n",
    "studenci = ClassInterpretation(lista)"
   ]
  },
  {
   "cell_type": "code",
   "execution_count": 89,
   "metadata": {},
   "outputs": [
    {
     "name": "stdout",
     "output_type": "stream",
     "text": [
      "Średnia ocen w grupie wynosi: 3.625\n",
      "Mediana ocen w grupie wynosi 3.75\n"
     ]
    }
   ],
   "source": [
    "print(f'Średnia ocen w grupie wynosi: {studenci.srednia()}')\n",
    "print(f'Mediana ocen w grupie wynosi {studenci.mediana()}')"
   ]
  },
  {
   "cell_type": "code",
   "execution_count": 90,
   "metadata": {},
   "outputs": [
    {
     "data": {
      "text/plain": [
       "'Grupa składa się z 10 studentów. Średnia ocen w grupie wynosi 3.625, a mediana 3.75.'"
      ]
     },
     "execution_count": 90,
     "metadata": {},
     "output_type": "execute_result"
    }
   ],
   "source": [
    "str(studenci)"
   ]
  },
  {
   "cell_type": "code",
   "execution_count": 91,
   "metadata": {},
   "outputs": [
    {
     "name": "stdout",
     "output_type": "stream",
     "text": [
      "Średnia w grupie zaokroąglona do dwóch miejsc po przecinku wynosi 3.62\n"
     ]
    }
   ],
   "source": [
    "print(f'Średnia w grupie zaokroąglona do dwóch miejsc po przecinku wynosi {float(studenci)}')"
   ]
  },
  {
   "cell_type": "markdown",
   "metadata": {},
   "source": [
    "<hr>\n",
    "#### Wizualizacja danych\n",
    "<hr>"
   ]
  },
  {
   "cell_type": "code",
   "execution_count": 92,
   "metadata": {},
   "outputs": [
    {
     "name": "stdout",
     "output_type": "stream",
     "text": [
      "[2, 1, 1, 8, 1, 7, 10, 3, 7, 4]\n",
      "[3.25, 3.5, 3.75, 3.75, 4.0, 3.75, 3.25, 4.25, 2.75, 4.0]\n"
     ]
    }
   ],
   "source": [
    "x = studenci.lista_neobecnosci()\n",
    "y = studenci.lista_ocen()\n",
    "print(x)\n",
    "print(y)"
   ]
  },
  {
   "cell_type": "code",
   "execution_count": 93,
   "metadata": {},
   "outputs": [
    {
     "data": {
      "image/png": "[encoded data removed]",
      "text/plain": [
       "<Figure size 432x288 with 1 Axes>"
      ]
     },
     "metadata": {},
     "output_type": "display_data"
    }
   ],
   "source": [
    "plt.scatter(x = x, y = y)\n",
    "plt.xlabel('Liczba nieobecności')\n",
    "plt.ylabel('Średnia ocen')\n",
    "plt.title('Zależność średnich ocen od liczby nieobecności.', fontsize = 15)\n",
    "plt.show()"
   ]
  },
  {
   "cell_type": "markdown",
   "metadata": {},
   "source": [
    "<hr>\n",
    "#### Modelowanie regresji liniowej\n",
    "<hr>"
   ]
  },
  {
   "cell_type": "code",
   "execution_count": 94,
   "metadata": {},
   "outputs": [],
   "source": [
    "X = np.array(x).reshape(-1, 1)\n",
    "Y = np.array(y).reshape(-1, 1)"
   ]
  },
  {
   "cell_type": "code",
   "execution_count": 95,
   "metadata": {},
   "outputs": [
    {
     "data": {
      "text/plain": [
       "LinearRegression(copy_X=True, fit_intercept=True, n_jobs=1, normalize=False)"
      ]
     },
     "execution_count": 95,
     "metadata": {},
     "output_type": "execute_result"
    }
   ],
   "source": [
    "regresor = LinearRegression()\n",
    "regresor.fit(X, Y)"
   ]
  },
  {
   "cell_type": "code",
   "execution_count": 96,
   "metadata": {},
   "outputs": [
    {
     "data": {
      "text/plain": [
       "array([[-0.0498008]])"
      ]
     },
     "execution_count": 96,
     "metadata": {},
     "output_type": "execute_result"
    }
   ],
   "source": [
    "regresor.coef_"
   ]
  },
  {
   "cell_type": "code",
   "execution_count": 99,
   "metadata": {},
   "outputs": [
    {
     "data": {
      "text/plain": [
       "array([[3.59511952]])"
      ]
     },
     "execution_count": 99,
     "metadata": {},
     "output_type": "execute_result"
    }
   ],
   "source": [
    "regresor.predict(5)"
   ]
  }
 ],
 "metadata": {
  "kernelspec": {
   "display_name": "Python 3",
   "language": "python",
   "name": "python3"
  },
  "language_info": {
   "codemirror_mode": {
    "name": "ipython",
    "version": 3
   },
   "file_extension": ".py",
   "mimetype": "text/x-python",
   "name": "python",
   "nbconvert_exporter": "python",
   "pygments_lexer": "ipython3",
   "version": "3.6.5"
  }
 },
 "nbformat": 4,
 "nbformat_minor": 2
}
