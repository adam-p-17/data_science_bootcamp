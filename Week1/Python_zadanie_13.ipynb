{
 "cells": [
  {
   "cell_type": "markdown",
   "metadata": {},
   "source": [
    "# Zadanie 13"
   ]
  },
  {
   "cell_type": "markdown",
   "metadata": {},
   "source": [
    "<h3>Napisz funkcje:</h3>\n",
    "<ol>\n",
    "    <li>Kowariancji</li>\n",
    "    <li>Korelacji Pearsona</li>\n",
    "    <li>Na odchylenie standardowe</li>\n",
    "</ol>"
   ]
  },
  {
   "cell_type": "code",
   "execution_count": 26,
   "metadata": {},
   "outputs": [],
   "source": [
    "def srednia(liczby):\n",
    "    suma = 0\n",
    "    for liczba in liczby:\n",
    "        suma += liczba\n",
    "    licznik = len(liczby)\n",
    "    return suma / licznik"
   ]
  },
  {
   "cell_type": "code",
   "execution_count": 55,
   "metadata": {},
   "outputs": [],
   "source": [
    "def odchylenie_standardowe(liczby):\n",
    "    sred = srednia(liczby)\n",
    "    licznik = len(liczby)\n",
    "    suma = 0\n",
    "    for liczba in liczby:\n",
    "        suma += (liczba - sred) ** 2\n",
    "    return (suma / licznik) ** (1 / 2)"
   ]
  },
  {
   "cell_type": "code",
   "execution_count": 56,
   "metadata": {},
   "outputs": [],
   "source": [
    "def kowariancja(lista_1, lista_2):\n",
    "    if len(lista_1) == len(lista_2):\n",
    "        X = srednia(lista_1)\n",
    "        Y = srednia(lista_2)\n",
    "        suma = 0\n",
    "        for i, j in zip(lista_1, lista_2):\n",
    "            suma += (i - X) * (j - Y)\n",
    "        kowariancja = suma / len(lista_1)\n",
    "        return kowariancja"
   ]
  },
  {
   "cell_type": "code",
   "execution_count": 57,
   "metadata": {},
   "outputs": [],
   "source": [
    "def korelacja_pearsona(lista_1, lista_2):\n",
    "    kow = kowariancja(lista_1, lista_2)\n",
    "    odchylenie_standardowe_1 = odchylenie_standardowe(lista_1)\n",
    "    odchylenie_standardowe_2 = odchylenie_standardowe(lista_2)\n",
    "    return kow / (odchylenie_standardowe_1 * odchylenie_standardowe_2)    "
   ]
  },
  {
   "cell_type": "code",
   "execution_count": 58,
   "metadata": {},
   "outputs": [],
   "source": [
    "lista_1 = [171, 184, 210, 198, 166, 167]\n",
    "lista_2 = [78, 77, 98, 110, 80, 69]"
   ]
  },
  {
   "cell_type": "code",
   "execution_count": 59,
   "metadata": {},
   "outputs": [
    {
     "data": {
      "text/plain": [
       "182.66666666666666"
      ]
     },
     "execution_count": 59,
     "metadata": {},
     "output_type": "execute_result"
    }
   ],
   "source": [
    "srednia(lista_1)"
   ]
  },
  {
   "cell_type": "code",
   "execution_count": 60,
   "metadata": {},
   "outputs": [
    {
     "data": {
      "text/plain": [
       "16.55"
      ]
     },
     "execution_count": 60,
     "metadata": {},
     "output_type": "execute_result"
    }
   ],
   "source": [
    "round(odchylenie_standardowe(lista_1),2)"
   ]
  },
  {
   "cell_type": "code",
   "execution_count": 61,
   "metadata": {},
   "outputs": [
    {
     "data": {
      "text/plain": [
       "190.6111111111111"
      ]
     },
     "execution_count": 61,
     "metadata": {},
     "output_type": "execute_result"
    }
   ],
   "source": [
    "kowariancja(lista_1, lista_2)"
   ]
  },
  {
   "cell_type": "code",
   "execution_count": 62,
   "metadata": {},
   "outputs": [
    {
     "data": {
      "text/plain": [
       "0.8187480918627356"
      ]
     },
     "execution_count": 62,
     "metadata": {},
     "output_type": "execute_result"
    }
   ],
   "source": [
    "korelacja_pearsona(lista_1, lista_2)"
   ]
  }
 ],
 "metadata": {
  "kernelspec": {
   "display_name": "Python 3",
   "language": "python",
   "name": "python3"
  },
  "language_info": {
   "codemirror_mode": {
    "name": "ipython",
    "version": 3
   },
   "file_extension": ".py",
   "mimetype": "text/x-python",
   "name": "python",
   "nbconvert_exporter": "python",
   "pygments_lexer": "ipython3",
   "version": "3.6.5"
  }
 },
 "nbformat": 4,
 "nbformat_minor": 2
}
