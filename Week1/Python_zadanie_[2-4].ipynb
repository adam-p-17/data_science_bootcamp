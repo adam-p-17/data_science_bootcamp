{
 "cells": [
  {
   "cell_type": "markdown",
   "metadata": {},
   "source": [
    "## Zadania od 2 do 4"
   ]
  },
  {
   "cell_type": "code",
   "execution_count": 53,
   "metadata": {},
   "outputs": [],
   "source": [
    "import numpy as np\n",
    "import math"
   ]
  },
  {
   "cell_type": "code",
   "execution_count": 20,
   "metadata": {},
   "outputs": [],
   "source": [
    "pierwszy_uczestnik = 'Ania'\n",
    "drugi_uczestnik = 'Tomek'"
   ]
  },
  {
   "cell_type": "code",
   "execution_count": 21,
   "metadata": {},
   "outputs": [],
   "source": [
    "temp = pierwszy_uczestnik\n",
    "pierwszy_uczestnik = drugi_uczestnik\n",
    "drugi_uczestnik = temp"
   ]
  },
  {
   "cell_type": "code",
   "execution_count": 22,
   "metadata": {},
   "outputs": [
    {
     "name": "stdout",
     "output_type": "stream",
     "text": [
      "pierwszy uczestnik: Tomek\n",
      "drugi uczestnik: Ania\n"
     ]
    }
   ],
   "source": [
    "print(f'pierwszy uczestnik: {pierwszy_uczestnik}\\ndrugi uczestnik: {drugi_uczestnik}')"
   ]
  },
  {
   "cell_type": "code",
   "execution_count": 23,
   "metadata": {},
   "outputs": [],
   "source": [
    "trzeci_uczestnik = 'Wierzchosława'"
   ]
  },
  {
   "cell_type": "code",
   "execution_count": 24,
   "metadata": {},
   "outputs": [],
   "source": [
    "dl_imion = list()"
   ]
  },
  {
   "cell_type": "code",
   "execution_count": 25,
   "metadata": {},
   "outputs": [
    {
     "name": "stdout",
     "output_type": "stream",
     "text": [
      "[5, 4, 13]\n"
     ]
    }
   ],
   "source": [
    "dl_imion.append(len(pierwszy_uczestnik))\n",
    "dl_imion.append(len(drugi_uczestnik))\n",
    "dl_imion.append(len(trzeci_uczestnik))\n",
    "print(dl_imion)"
   ]
  },
  {
   "cell_type": "code",
   "execution_count": 26,
   "metadata": {},
   "outputs": [
    {
     "name": "stdout",
     "output_type": "stream",
     "text": [
      "Średnia: 7.333333333333333\n",
      "Mediana: 5.0\n"
     ]
    }
   ],
   "source": [
    "print(f'Średnia: {np.mean(dl_imion)}')\n",
    "print(f'Mediana: {np.median(dl_imion)}')"
   ]
  },
  {
   "cell_type": "code",
   "execution_count": 27,
   "metadata": {},
   "outputs": [],
   "source": [
    "trzeci_uczestnik = 'Ada'"
   ]
  },
  {
   "cell_type": "markdown",
   "metadata": {},
   "source": [
    "### Własne funkcje srednia, mediana"
   ]
  },
  {
   "cell_type": "code",
   "execution_count": 39,
   "metadata": {},
   "outputs": [],
   "source": [
    "def srednia(liczby):\n",
    "    suma = 0\n",
    "    for liczba in liczby:\n",
    "        suma += liczba\n",
    "    licznik = len(liczby)\n",
    "    return round(suma / licznik, 2)"
   ]
  },
  {
   "cell_type": "code",
   "execution_count": 40,
   "metadata": {},
   "outputs": [
    {
     "data": {
      "text/plain": [
       "7.33"
      ]
     },
     "execution_count": 40,
     "metadata": {},
     "output_type": "execute_result"
    }
   ],
   "source": [
    "srednia(dl_imion)"
   ]
  },
  {
   "cell_type": "code",
   "execution_count": 62,
   "metadata": {},
   "outputs": [],
   "source": [
    "def mediana(liczby):\n",
    "    liczby.sort()\n",
    "    licznik = len(liczby)\n",
    "    srodek = licznik / 2\n",
    "    if licznik % 2 == 0:\n",
    "        return float((liczby[math.floor(srodek)] + liczby[math.ceil(srodek)]) / 2)\n",
    "    else:\n",
    "        return float(liczby[math.ceil(srodek)])"
   ]
  },
  {
   "cell_type": "code",
   "execution_count": 63,
   "metadata": {},
   "outputs": [
    {
     "data": {
      "text/plain": [
       "2.0"
      ]
     },
     "execution_count": 63,
     "metadata": {},
     "output_type": "execute_result"
    }
   ],
   "source": [
    "mediana([1,2,2,2,3])"
   ]
  },
  {
   "cell_type": "markdown",
   "metadata": {},
   "source": [
    "### BMI"
   ]
  },
  {
   "cell_type": "code",
   "execution_count": 64,
   "metadata": {},
   "outputs": [],
   "source": [
    "imie = 'Adam'\n",
    "wzrost = 180\n",
    "waga = 80"
   ]
  },
  {
   "cell_type": "code",
   "execution_count": 65,
   "metadata": {},
   "outputs": [],
   "source": [
    "def bmi(imie, wzrost, waga):\n",
    "    bmi = waga / (wzrost / 100) ** 2\n",
    "    if bmi <= 18.5:\n",
    "        return f'{imie} masz niedowagę! BMI: {bmi}'\n",
    "    elif bmi < 24.9:\n",
    "        return f'{imie} masz prawidłową wagę! BMI: {bmi}'\n",
    "    elif bmi < 29.9:\n",
    "        return f'{imie} masz prawidłową wagę! BMI: {bmi}'\n",
    "    else:\n",
    "        return f'{imie} jesteś otyły!'"
   ]
  },
  {
   "cell_type": "code",
   "execution_count": 66,
   "metadata": {},
   "outputs": [
    {
     "data": {
      "text/plain": [
       "'Adam masz prawidłową wagę! BMI: 24.691358024691358'"
      ]
     },
     "execution_count": 66,
     "metadata": {},
     "output_type": "execute_result"
    }
   ],
   "source": [
    "bmi(imie, wzrost, waga)"
   ]
  }
 ],
 "metadata": {
  "kernelspec": {
   "display_name": "Python 3",
   "language": "python",
   "name": "python3"
  },
  "language_info": {
   "codemirror_mode": {
    "name": "ipython",
    "version": 3
   },
   "file_extension": ".py",
   "mimetype": "text/x-python",
   "name": "python",
   "nbconvert_exporter": "python",
   "pygments_lexer": "ipython3",
   "version": "3.6.5"
  }
 },
 "nbformat": 4,
 "nbformat_minor": 2
}
