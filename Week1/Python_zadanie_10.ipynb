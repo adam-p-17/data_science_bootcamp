{
 "cells": [
  {
   "cell_type": "markdown",
   "metadata": {},
   "source": [
    "<h1>Zadania 10 i 11</h1>"
   ]
  },
  {
   "cell_type": "markdown",
   "metadata": {},
   "source": [
    "<h3>Zadanie 10</h3>\n",
    "</br>\n",
    "<ul>\n",
    "    <li>Stwórz klasę student (imię, nazwisko, nr albumu, lista ocen, nieobecności)</li>\n",
    "    <li>Klasa powinna mieć metodę, która wylicza średnią studenta</li>\n",
    "    <li>Klasa powinna mieć metody które przedstawiają studenta w sposób:</li>\n",
    "    <p><i>Student: Adam Nowak, index: 123456 ma średnią ocen:  3,65, jest studentem ze słabą/dobrą frekwencją</i></p>\n",
    "    <p></p>\n",
    "    <li>Przyjmujemy że student z dobrą frekwencją to taki co opuścił maksymalnie 2 zajęcia</li>\n",
    "    <li>Na podstawie średniej ocen dokonaj predykcji ilości dni opuszczonych przez studenta: jego oceny to: [3, 3, 3, 2]</li>\n",
    "</ul>"
   ]
  },
  {
   "cell_type": "code",
   "execution_count": 2,
   "metadata": {},
   "outputs": [],
   "source": [
    "import numpy as np"
   ]
  },
  {
   "cell_type": "code",
   "execution_count": 3,
   "metadata": {},
   "outputs": [],
   "source": [
    "class Student:\n",
    "    def __init__(self, imie, nazwisko, nr_albumu, lista_ocen, nieobecnosci):\n",
    "        self.imie = imie\n",
    "        self.nazwisko = nazwisko\n",
    "        self.nr_albumu = nr_albumu\n",
    "        self.lista_ocen = lista_ocen\n",
    "        self.nieobecnosci = nieobecnosci\n",
    "    \n",
    "    def przedstaw(self):\n",
    "        srednia = np.mean(self.lista_ocen)\n",
    "        if self.nieobecnosci > 2:\n",
    "            frekwencja = 'słabą'\n",
    "        else:\n",
    "            frekwencja = 'dobrą'\n",
    "        return f'Student: {self.imie} {self.nazwisko}, index: {self.nr_albumu} ma średnią ocen: {srednia}, jest studentem ze {frekwencja} frekwencją.'\n",
    "    \n",
    "    @property\n",
    "    def srednia_ocen(self):\n",
    "        return np.mean(self.lista_ocen)"
   ]
  },
  {
   "cell_type": "code",
   "execution_count": 4,
   "metadata": {},
   "outputs": [],
   "source": [
    "student = Student('Adam', 'Pawelec', '456', [4,5,6,4], 4)"
   ]
  },
  {
   "cell_type": "code",
   "execution_count": 5,
   "metadata": {},
   "outputs": [
    {
     "data": {
      "text/plain": [
       "'Student: Adam Pawelec, index: 456 ma średnią ocen: 4.75, jest studentem ze słabą frekwencją.'"
      ]
     },
     "execution_count": 5,
     "metadata": {},
     "output_type": "execute_result"
    }
   ],
   "source": [
    "student.przedstaw()"
   ]
  },
  {
   "cell_type": "code",
   "execution_count": 6,
   "metadata": {},
   "outputs": [
    {
     "data": {
      "text/plain": [
       "4.75"
      ]
     },
     "execution_count": 6,
     "metadata": {},
     "output_type": "execute_result"
    }
   ],
   "source": [
    "student.srednia_ocen"
   ]
  },
  {
   "cell_type": "markdown",
   "metadata": {},
   "source": [
    "<h3>Zadanie 11</h3>\n",
    "<p>Na podstawie funkcji 10</p>\n",
    "<p>Stwórz funkcję która przyjmuje parametr ilosc studentow</p>\n",
    "<p>Funkcja generuje studentow z losowymi danymi</p>\n",
    "<p>*Użyj paczki faker</p>\n",
    "<p>Funkcja zwraca listę obiektów</p>"
   ]
  },
  {
   "cell_type": "code",
   "execution_count": 7,
   "metadata": {},
   "outputs": [],
   "source": [
    "from faker import Faker\n",
    "fake = Faker()\n",
    "from random import randint"
   ]
  },
  {
   "cell_type": "code",
   "execution_count": 8,
   "metadata": {},
   "outputs": [],
   "source": [
    "def generuj_studentow(liczba_studentów):\n",
    "    lista = list()\n",
    "    for i in range(liczba_studentów):\n",
    "        imie = fake.first_name()\n",
    "        nazwisko = fake.last_name()\n",
    "        nr_albumu = fake.credit_card_number(card_type=None)\n",
    "        oceny = [randint(a=2, b=5), randint(a=2, b=5), randint(a=2, b=5), randint(a=2, b=5)]\n",
    "        nieobecnosci = randint(1,10)\n",
    "        student = Student(imie, nazwisko, nr_albumu, oceny, nieobecnosci)\n",
    "        lista.append(student)\n",
    "    return lista"
   ]
  },
  {
   "cell_type": "code",
   "execution_count": 9,
   "metadata": {},
   "outputs": [],
   "source": [
    "x = generuj_studentow(10)"
   ]
  },
  {
   "cell_type": "code",
   "execution_count": 10,
   "metadata": {},
   "outputs": [
    {
     "name": "stdout",
     "output_type": "stream",
     "text": [
      "Student: Terrance Bailey, index: 180021352140873 ma średnią ocen: 3.5, jest studentem ze słabą frekwencją.\n",
      "Student: Luke Bender, index: 4737872584604833 ma średnią ocen: 4.5, jest studentem ze słabą frekwencją.\n",
      "Student: Lawrence Bell, index: 3544520994896219 ma średnią ocen: 2.75, jest studentem ze słabą frekwencją.\n",
      "Student: Amanda Aguilar, index: 6596069586329023 ma średnią ocen: 3.25, jest studentem ze słabą frekwencją.\n",
      "Student: James Patterson, index: 5530889819466149 ma średnią ocen: 3.25, jest studentem ze słabą frekwencją.\n",
      "Student: Mark Miller, index: 375312222138634 ma średnią ocen: 3.25, jest studentem ze słabą frekwencją.\n",
      "Student: Brandon Taylor, index: 676109878519 ma średnią ocen: 3.5, jest studentem ze dobrą frekwencją.\n",
      "Student: Travis Williams, index: 6011078753544592 ma średnią ocen: 3.5, jest studentem ze słabą frekwencją.\n",
      "Student: Sabrina Jackson, index: 180046342903379 ma średnią ocen: 3.25, jest studentem ze słabą frekwencją.\n",
      "Student: Amanda Thomas, index: 345172909280910 ma średnią ocen: 2.75, jest studentem ze dobrą frekwencją.\n"
     ]
    }
   ],
   "source": [
    "for i in range(len(x)):\n",
    "    print(x[i].przedstaw())"
   ]
  },
  {
   "cell_type": "code",
   "execution_count": 11,
   "metadata": {},
   "outputs": [],
   "source": [
    "from sklearn.linear_model import LinearRegression"
   ]
  },
  {
   "cell_type": "code",
   "execution_count": 12,
   "metadata": {},
   "outputs": [],
   "source": [
    "X = np.array([i.srednia_ocen for i in x])\n",
    "Y = np.array([i.nieobecnosci for i in x])\n",
    "X = X.reshape(-1, 1)\n",
    "Y = Y.reshape(-1, 1)"
   ]
  },
  {
   "cell_type": "code",
   "execution_count": 13,
   "metadata": {},
   "outputs": [
    {
     "data": {
      "text/plain": [
       "LinearRegression(copy_X=True, fit_intercept=True, n_jobs=1, normalize=False)"
      ]
     },
     "execution_count": 13,
     "metadata": {},
     "output_type": "execute_result"
    }
   ],
   "source": [
    "regressor = LinearRegression()\n",
    "regressor.fit(X,Y)"
   ]
  },
  {
   "cell_type": "code",
   "execution_count": 14,
   "metadata": {},
   "outputs": [
    {
     "data": {
      "text/plain": [
       "array([[-2.02325581]])"
      ]
     },
     "execution_count": 14,
     "metadata": {},
     "output_type": "execute_result"
    }
   ],
   "source": [
    "regressor.coef_"
   ]
  },
  {
   "cell_type": "code",
   "execution_count": 15,
   "metadata": {},
   "outputs": [
    {
     "data": {
      "text/plain": [
       "array([[3.26162791]])"
      ]
     },
     "execution_count": 15,
     "metadata": {},
     "output_type": "execute_result"
    }
   ],
   "source": [
    "regressor.predict(5)"
   ]
  }
 ],
 "metadata": {
  "kernelspec": {
   "display_name": "Python 3",
   "language": "python",
   "name": "python3"
  },
  "language_info": {
   "codemirror_mode": {
    "name": "ipython",
    "version": 3
   },
   "file_extension": ".py",
   "mimetype": "text/x-python",
   "name": "python",
   "nbconvert_exporter": "python",
   "pygments_lexer": "ipython3",
   "version": "3.6.5"
  }
 },
 "nbformat": 4,
 "nbformat_minor": 2
}
